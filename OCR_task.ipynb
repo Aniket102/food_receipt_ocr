{
  "cells": [
    {
      "cell_type": "markdown",
      "metadata": {
        "id": "cNdxgws021_T"
      },
      "source": [
        "### Install Packages"
      ]
    },
    {
      "cell_type": "markdown",
      "metadata": {
        "id": "qTrgXEwd21_Z"
      },
      "source": [
        "### installing tesseract\n"
      ]
    },
    {
      "cell_type": "code",
      "source": [
        "!apt-get install poppler-utils #poppler\n"
      ],
      "metadata": {
        "colab": {
          "base_uri": "https://localhost:8080/"
        },
        "id": "eOxa_uG03NMW",
        "outputId": "ed5688fc-ff83-423d-b8ac-f1f75d60f99e"
      },
      "execution_count": 2,
      "outputs": [
        {
          "output_type": "stream",
          "name": "stdout",
          "text": [
            "Reading package lists... Done\n",
            "Building dependency tree       \n",
            "Reading state information... Done\n",
            "The following packages were automatically installed and are no longer required:\n",
            "  libnvidia-common-460 nsight-compute-2020.2.0\n",
            "Use 'apt autoremove' to remove them.\n",
            "The following NEW packages will be installed:\n",
            "  poppler-utils\n",
            "0 upgraded, 1 newly installed, 0 to remove and 42 not upgraded.\n",
            "Need to get 154 kB of archives.\n",
            "After this operation, 613 kB of additional disk space will be used.\n",
            "Get:1 http://archive.ubuntu.com/ubuntu bionic-updates/main amd64 poppler-utils amd64 0.62.0-2ubuntu2.12 [154 kB]\n",
            "Fetched 154 kB in 0s (589 kB/s)\n",
            "Selecting previously unselected package poppler-utils.\n",
            "(Reading database ... 155203 files and directories currently installed.)\n",
            "Preparing to unpack .../poppler-utils_0.62.0-2ubuntu2.12_amd64.deb ...\n",
            "Unpacking poppler-utils (0.62.0-2ubuntu2.12) ...\n",
            "Setting up poppler-utils (0.62.0-2ubuntu2.12) ...\n",
            "Processing triggers for man-db (2.8.3-2ubuntu0.1) ...\n"
          ]
        }
      ]
    },
    {
      "cell_type": "code",
      "execution_count": 4,
      "metadata": {
        "colab": {
          "base_uri": "https://localhost:8080/"
        },
        "id": "hdW-Ai4Q21_X",
        "outputId": "6ddf21ef-0a18-4f1f-dec6-b2a27ec1a935"
      },
      "outputs": [
        {
          "output_type": "stream",
          "name": "stdout",
          "text": [
            "Reading package lists... Done\n",
            "Building dependency tree       \n",
            "Reading state information... Done\n",
            "The following packages were automatically installed and are no longer required:\n",
            "  libnvidia-common-460 nsight-compute-2020.2.0\n",
            "Use 'sudo apt autoremove' to remove them.\n",
            "The following additional packages will be installed:\n",
            "  tesseract-ocr-eng tesseract-ocr-osd\n",
            "The following NEW packages will be installed:\n",
            "  tesseract-ocr tesseract-ocr-eng tesseract-ocr-osd\n",
            "0 upgraded, 3 newly installed, 0 to remove and 42 not upgraded.\n",
            "Need to get 4,795 kB of archives.\n",
            "After this operation, 15.8 MB of additional disk space will be used.\n",
            "Get:1 http://archive.ubuntu.com/ubuntu bionic/universe amd64 tesseract-ocr-eng all 4.00~git24-0e00fe6-1.2 [1,588 kB]\n",
            "Get:2 http://archive.ubuntu.com/ubuntu bionic/universe amd64 tesseract-ocr-osd all 4.00~git24-0e00fe6-1.2 [2,989 kB]\n",
            "Get:3 http://archive.ubuntu.com/ubuntu bionic/universe amd64 tesseract-ocr amd64 4.00~git2288-10f4998a-2 [218 kB]\n",
            "Fetched 4,795 kB in 1s (4,076 kB/s)\n",
            "debconf: unable to initialize frontend: Dialog\n",
            "debconf: (No usable dialog-like program is installed, so the dialog based frontend cannot be used. at /usr/share/perl5/Debconf/FrontEnd/Dialog.pm line 76, <> line 3.)\n",
            "debconf: falling back to frontend: Readline\n",
            "debconf: unable to initialize frontend: Readline\n",
            "debconf: (This frontend requires a controlling tty.)\n",
            "debconf: falling back to frontend: Teletype\n",
            "dpkg-preconfigure: unable to re-open stdin: \n",
            "Selecting previously unselected package tesseract-ocr-eng.\n",
            "(Reading database ... 155231 files and directories currently installed.)\n",
            "Preparing to unpack .../tesseract-ocr-eng_4.00~git24-0e00fe6-1.2_all.deb ...\n",
            "Unpacking tesseract-ocr-eng (4.00~git24-0e00fe6-1.2) ...\n",
            "Selecting previously unselected package tesseract-ocr-osd.\n",
            "Preparing to unpack .../tesseract-ocr-osd_4.00~git24-0e00fe6-1.2_all.deb ...\n",
            "Unpacking tesseract-ocr-osd (4.00~git24-0e00fe6-1.2) ...\n",
            "Selecting previously unselected package tesseract-ocr.\n",
            "Preparing to unpack .../tesseract-ocr_4.00~git2288-10f4998a-2_amd64.deb ...\n",
            "Unpacking tesseract-ocr (4.00~git2288-10f4998a-2) ...\n",
            "Setting up tesseract-ocr-osd (4.00~git24-0e00fe6-1.2) ...\n",
            "Setting up tesseract-ocr-eng (4.00~git24-0e00fe6-1.2) ...\n",
            "Setting up tesseract-ocr (4.00~git2288-10f4998a-2) ...\n",
            "Processing triggers for man-db (2.8.3-2ubuntu0.1) ...\n"
          ]
        }
      ],
      "source": [
        "!sudo apt install tesseract-ocr "
      ]
    },
    {
      "cell_type": "code",
      "source": [
        "!pip install pytesseract\n"
      ],
      "metadata": {
        "colab": {
          "base_uri": "https://localhost:8080/",
          "height": 384
        },
        "id": "qDOn3Zi13rRX",
        "outputId": "85ffedfa-3aa5-4e25-acff-4dfc80728067"
      },
      "execution_count": 6,
      "outputs": [
        {
          "output_type": "stream",
          "name": "stdout",
          "text": [
            "Collecting pytesseract\n",
            "  Downloading pytesseract-0.3.9-py2.py3-none-any.whl (14 kB)\n",
            "Collecting Pillow>=8.0.0\n",
            "  Downloading Pillow-9.1.0-cp37-cp37m-manylinux_2_17_x86_64.manylinux2014_x86_64.whl (4.3 MB)\n",
            "\u001b[K     |████████████████████████████████| 4.3 MB 5.2 MB/s \n",
            "\u001b[?25hRequirement already satisfied: packaging>=21.3 in /usr/local/lib/python3.7/dist-packages (from pytesseract) (21.3)\n",
            "Requirement already satisfied: pyparsing!=3.0.5,>=2.0.2 in /usr/local/lib/python3.7/dist-packages (from packaging>=21.3->pytesseract) (3.0.8)\n",
            "Installing collected packages: Pillow, pytesseract\n",
            "  Attempting uninstall: Pillow\n",
            "    Found existing installation: Pillow 7.1.2\n",
            "    Uninstalling Pillow-7.1.2:\n",
            "      Successfully uninstalled Pillow-7.1.2\n",
            "\u001b[31mERROR: pip's dependency resolver does not currently take into account all the packages that are installed. This behaviour is the source of the following dependency conflicts.\n",
            "albumentations 0.1.12 requires imgaug<0.2.7,>=0.2.5, but you have imgaug 0.2.9 which is incompatible.\u001b[0m\n",
            "Successfully installed Pillow-9.1.0 pytesseract-0.3.9\n"
          ]
        },
        {
          "output_type": "display_data",
          "data": {
            "application/vnd.colab-display-data+json": {
              "pip_warning": {
                "packages": [
                  "PIL"
                ]
              }
            }
          },
          "metadata": {}
        }
      ]
    },
    {
      "cell_type": "code",
      "source": [
        "from google.colab import drive\n",
        "drive.mount('/content/drive')"
      ],
      "metadata": {
        "colab": {
          "base_uri": "https://localhost:8080/"
        },
        "id": "5dttppsh3MDX",
        "outputId": "67b7f760-e3ab-4ef0-e1a7-9fe5c105ccbe"
      },
      "execution_count": 8,
      "outputs": [
        {
          "output_type": "stream",
          "name": "stdout",
          "text": [
            "Mounted at /content/drive\n"
          ]
        }
      ]
    },
    {
      "cell_type": "markdown",
      "metadata": {
        "id": "sqy61QC321_b"
      },
      "source": [
        "### Import "
      ]
    },
    {
      "cell_type": "code",
      "execution_count": 1,
      "metadata": {
        "id": "SyCODuVr21_b"
      },
      "outputs": [],
      "source": [
        "import sys\n",
        "import numpy as np\n",
        "from cv2 import *\n",
        "import time\n",
        "import os\n",
        "import threading\n",
        "import pytesseract\n",
        "import imutils"
      ]
    },
    {
      "cell_type": "markdown",
      "metadata": {
        "id": "OWxucED621_c"
      },
      "source": [
        "###  Image Preprocessing and Text Recognition from Image"
      ]
    },
    {
      "cell_type": "code",
      "execution_count": 3,
      "metadata": {
        "id": "JtjYZlqa21_d"
      },
      "outputs": [],
      "source": [
        "\n",
        "def get_string(img_path):\n",
        "    # Read image using opencv\n",
        "    img = cv2.imread(img_path)\n",
        "    output_path = \"/content/drive/MyDrive/internship\"\n",
        "    # Rescale the image, if needed.\n",
        "    img = cv2.resize(img, None, fx=1.5, fy=1.5, interpolation=cv2.INTER_CUBIC)\n",
        "    # Converting to gray scale\n",
        "    img = cv2.cvtColor(img, cv2.COLOR_BGR2GRAY)  #bgr to gray conversion\n",
        "    #Removing Shadows\n",
        "    rgb_planes = cv2.split(img)\n",
        "    result_planes = []\n",
        "    result_norm_planes = []\n",
        "    for plane in rgb_planes:\n",
        "        dilated_img = cv2.dilate(plane, np.ones((7,7), np.uint8))\n",
        "        bg_img = cv2.medianBlur(dilated_img, 21)\n",
        "        diff_img = 255 - cv2.absdiff(plane, bg_img)\n",
        "        result_planes.append(diff_img)\n",
        "    img = cv2.merge(result_planes)\n",
        "    \n",
        "    #morphological operations\n",
        "    kernel = np.ones((1, 1), np.uint8)\n",
        "    img = cv2.dilate(img, kernel, iterations=1)#increases the white region in the image \n",
        "    img = cv2.erode(img, kernel, iterations=1) #erodes away the boundaries of foreground object\n",
        "    \n",
        "    # Apply threshold to get image with only b&w (binarization) so that diffrentiation of foreground and background is easier\n",
        "    img = cv2.threshold(img, 0, 255, cv2.THRESH_BINARY + cv2.THRESH_OTSU)[1]\n",
        "    \n",
        "    #Save the filtered image in the output directory\n",
        "    save_path = os.path.join(output_path, file_name + \"_filter_\" + str('as') + \".png\")\n",
        "    cv2.imwrite(save_path, img)\n",
        "    # Recognize text with tesseract for python\n",
        "    result = pytesseract.image_to_string(img, lang=\"eng\") #pytesseract library ocr\n",
        "    return result"
      ]
    },
    {
      "cell_type": "code",
      "execution_count": 11,
      "metadata": {
        "id": "F3iRgQd621_e"
      },
      "outputs": [],
      "source": [
        "value = get_string(\"/content/drive/MyDrive/internship/gg.jpg\")"
      ]
    },
    {
      "cell_type": "code",
      "execution_count": 12,
      "metadata": {
        "id": "zHYqf_pK21_e"
      },
      "outputs": [],
      "source": [
        "data = value.split(sep='\\n')"
      ]
    },
    {
      "cell_type": "markdown",
      "metadata": {
        "id": "3zI_CXV521_f"
      },
      "source": [
        "### Final Output"
      ]
    },
    {
      "cell_type": "code",
      "execution_count": 13,
      "metadata": {
        "colab": {
          "base_uri": "https://localhost:8080/"
        },
        "id": "Z7HzVdjx21_f",
        "outputId": "c6f79c80-cb77-4bf2-f745-b777deb0b09c"
      },
      "outputs": [
        {
          "output_type": "stream",
          "name": "stdout",
          "text": [
            "Coffee By Di Bella— cade\n",
            "1 Road- Mahim\n",
            "coffee Dynamics Pvt Ltd\n",
            "Ground Floor, West Wind Building, Veer Savarkar\n",
            "Marg, Mahim West, Mumbai-16\n",
            "9167199555\n",
            "customer feedback@cof feebydibella.com\n",
            "--INSIDE--\n",
            "weeeeceeenctote BILL MEMO--~-------------\n",
            "Bil] No:2758-177333 Tbl:3 By:Rajesh\n",
            "Date 06-08-2019\n",
            "Time :00:46\n",
            "Captain:rajesh2757\n",
            "Token Number : 135\n",
            "\n",
            "Ttem Rate aty amount\n",
            "Oreo shake Large 24. 23 2 428.58\n",
            "Ferrero Rocher 295.24 1 295.24\n",
            "waffle\n",
            "\n",
            "Rocky Road Waffle = 295.24 1 295.24\n",
            "Water 500m) 3. 52 2 19.04\n",
            "\n",
            "Total aty: 6\n",
            "\n",
            "Sub Total: 1038. 10\n",
            "CGST:2.5% 25.96\n",
            "SGST:2.5% 25.96\n",
            "Total Bill: 1090.02\n",
            "\n",
            "Grand Total: 1090.00\n",
            "\n",
            "GSTIN:- 27AAGCCB268F32G\n",
            "07/08/2019 01:14:14\n",
            "\n",
            "Powered by TORQUS. Ver:9.2.10\n",
            "\f\n"
          ]
        }
      ],
      "source": [
        "for d in data:\n",
        "    print(d)"
      ]
    },
    {
      "cell_type": "code",
      "execution_count": null,
      "metadata": {
        "id": "55VVX3jH21_g"
      },
      "outputs": [],
      "source": [
        ""
      ]
    }
  ],
  "metadata": {
    "kernelspec": {
      "display_name": "Python 3",
      "language": "python",
      "name": "python3"
    },
    "language_info": {
      "codemirror_mode": {
        "name": "ipython",
        "version": 3
      },
      "file_extension": ".py",
      "mimetype": "text/x-python",
      "name": "python",
      "nbconvert_exporter": "python",
      "pygments_lexer": "ipython3",
      "version": "3.7.4"
    },
    "colab": {
      "name": "OCR_task.ipynb",
      "provenance": []
    }
  },
  "nbformat": 4,
  "nbformat_minor": 0
}